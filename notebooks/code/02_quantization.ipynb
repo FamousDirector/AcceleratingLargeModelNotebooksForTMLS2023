{
 "cells": [
  {
   "cell_type": "markdown",
   "metadata": {
    "collapsed": false,
    "jupyter": {
     "outputs_hidden": false
    }
   },
   "source": [
    "# Quantization\n",
    "\n",
    "Links:\n",
    "- https://huggingface.co/docs/transformers/main/main_classes/quantization\n",
    "- https://huggingface.co/blog/4bit-transformers-bitsandbytes\n",
    "- https://developer.nvidia.com/blog/sparsity-in-int8-training-workflow-and-best-practices-for-tensorrt-acceleration/?ncid=so-nvsh-193308&dysig_tid=2bb9863664f84623b6e8f425242611ba#cid=dl13_so-nvsh_en-us"
   ]
  },
  {
   "cell_type": "code",
   "execution_count": null,
   "metadata": {},
   "outputs": [],
   "source": [
    "import os\n",
    "os.environ[\"TOKENIZERS_PARALLELISM\"] = \"false\"\n",
    "os.environ[\"CUDA_MODULE_LOADING\"] = \"LAZY\""
   ]
  },
  {
   "cell_type": "code",
   "execution_count": null,
   "metadata": {
    "collapsed": false,
    "jupyter": {
     "outputs_hidden": false
    }
   },
   "outputs": [],
   "source": [
    "# Helpers\n",
    "import subprocess as sp\n",
    "import time\n",
    "import os\n",
    "import gc\n",
    "import torch\n",
    "from transformers import AutoTokenizer, set_seed\n",
    "\n",
    "set_seed(0)\n",
    "\n",
    "model_id = \"facebook/opt-1.3b\"\n",
    "\n",
    "tokenizer = AutoTokenizer.from_pretrained(model_id)\n",
    "\n",
    "input_string = \"What is the capital of Canada?\"\n",
    "\n",
    "tokens = tokenizer(input_string, return_tensors=\"pt\").input_ids.to(\"cuda\")\n",
    "\n",
    "prev_used_mem = 0\n",
    "\n",
    "def print_used_memory():\n",
    "    global prev_used_mem\n",
    "    command = \"nvidia-smi --query-gpu=memory.used --format=csv\"\n",
    "    memory_used_info = sp.check_output(command.split()).decode('ascii').split('\\n')[:-1][1:]\n",
    "    memory_used_values = [int(x.split()[0]) for i, x in enumerate(memory_used_info)]\n",
    "    print(f\"Used {(memory_used_values[0] - prev_used_mem) / 1000} GiB\")\n",
    "    prev_used_mem = memory_used_values[0]\n",
    "\n",
    "print_used_memory()"
   ]
  },
  {
   "cell_type": "code",
   "execution_count": null,
   "metadata": {},
   "outputs": [],
   "source": [
    "# FP32\n",
    "from transformers import AutoModelForCausalLM\n",
    "\n",
    "model = AutoModelForCausalLM.from_pretrained(model_id, device_map=\"auto\")"
   ]
  },
  {
   "cell_type": "code",
   "execution_count": null,
   "metadata": {},
   "outputs": [],
   "source": [
    "with torch.no_grad():\n",
    "    output_32bit_tokens = model.generate(tokens, max_new_tokens=16)\n",
    "    print(tokenizer.decode(output_32bit_tokens[0], skip_special_tokens=True))\n",
    "    \n",
    "    print_used_memory()\n",
    "    \n",
    "    %timeit -n 10 model.generate(tokens, max_new_tokens=16)"
   ]
  },
  {
   "cell_type": "code",
   "execution_count": null,
   "metadata": {},
   "outputs": [],
   "source": [
    "# cleanup\n",
    "del model\n",
    "del output_32bit_tokens\n",
    "gc.collect()"
   ]
  },
  {
   "cell_type": "code",
   "execution_count": null,
   "metadata": {},
   "outputs": [],
   "source": [
    "torch.cuda.empty_cache()\n",
    "\n",
    "print_used_memory()"
   ]
  },
  {
   "cell_type": "code",
   "execution_count": null,
   "metadata": {
    "collapsed": false,
    "jupyter": {
     "outputs_hidden": false
    }
   },
   "outputs": [],
   "source": [
    "# FP16\n",
    "\n",
    "from transformers import AutoModelForCausalLM\n",
    "\n",
    "model = AutoModelForCausalLM.from_pretrained(model_id, device_map=\"auto\", torch_dtype=torch.float16,)"
   ]
  },
  {
   "cell_type": "code",
   "execution_count": null,
   "metadata": {},
   "outputs": [],
   "source": [
    "with torch.no_grad():\n",
    "    output_16bit_tokens = model.generate(tokens, max_new_tokens=16)\n",
    "    print(tokenizer.decode(output_16bit_tokens[0], skip_special_tokens=True))\n",
    "    \n",
    "    print_used_memory()\n",
    "    \n",
    "    %timeit -n 10 model.generate(tokens, max_new_tokens=16)"
   ]
  },
  {
   "cell_type": "code",
   "execution_count": null,
   "metadata": {},
   "outputs": [],
   "source": [
    "# cleanup\n",
    "del model\n",
    "del output_16bit_tokens\n",
    "torch.cuda.empty_cache()\n",
    "\n",
    "print_used_memory()"
   ]
  },
  {
   "cell_type": "code",
   "execution_count": null,
   "metadata": {
    "collapsed": false,
    "jupyter": {
     "outputs_hidden": false
    }
   },
   "outputs": [],
   "source": [
    "# FP4\n",
    "from transformers import BitsAndBytesConfig\n",
    "\n",
    "config = BitsAndBytesConfig(\n",
    "   load_in_4bit=True,\n",
    "   bnb_4bit_quant_type=\"nf4\",\n",
    "   bnb_4bit_use_double_quant=True\n",
    ")\n",
    "\n",
    "model = AutoModelForCausalLM.from_pretrained(model_id, quantization_config=config)"
   ]
  },
  {
   "cell_type": "code",
   "execution_count": null,
   "metadata": {},
   "outputs": [],
   "source": [
    "with torch.no_grad():\n",
    "    output_4bit_tokens = model.generate(tokens, max_new_tokens=16)\n",
    "    print(tokenizer.decode(output_4bit_tokens[0], skip_special_tokens=True))\n",
    "    \n",
    "    print_used_memory()\n",
    "    \n",
    "    %timeit -n 10 model.generate(tokens, max_new_tokens=16)"
   ]
  },
  {
   "cell_type": "code",
   "execution_count": null,
   "metadata": {},
   "outputs": [],
   "source": [
    "# cleanup\n",
    "del model\n",
    "del output_4bit_tokens\n",
    "torch.cuda.empty_cache()\n",
    "\n",
    "print_used_memory()"
   ]
  },
  {
   "cell_type": "code",
   "execution_count": null,
   "metadata": {},
   "outputs": [],
   "source": [
    "#FP4 using FP16 computation\n",
    "from transformers import BitsAndBytesConfig\n",
    "\n",
    "config = BitsAndBytesConfig(\n",
    "   load_in_4bit=True,\n",
    "   bnb_4bit_quant_type=\"nf4\",\n",
    "   bnb_4bit_use_double_quant=True,\n",
    "   bnb_4bit_compute_dtype=torch.float16\n",
    ")\n",
    "\n",
    "model = AutoModelForCausalLM.from_pretrained(model_id, quantization_config=config)"
   ]
  },
  {
   "cell_type": "code",
   "execution_count": null,
   "metadata": {},
   "outputs": [],
   "source": [
    "with torch.no_grad():\n",
    "    output_4bit_tokens = model.generate(tokens, max_new_tokens=16)\n",
    "    print(tokenizer.decode(output_4bit_tokens[0], skip_special_tokens=True))\n",
    "    \n",
    "    print_used_memory()\n",
    "    \n",
    "    %timeit -n 10 model.generate(tokens, max_new_tokens=16)"
   ]
  },
  {
   "cell_type": "code",
   "execution_count": null,
   "metadata": {},
   "outputs": [],
   "source": [
    "# cleanup\n",
    "del model\n",
    "del output_4bit_tokens\n",
    "torch.cuda.empty_cache()\n",
    "\n",
    "print_used_memory()"
   ]
  },
  {
   "cell_type": "code",
   "execution_count": null,
   "metadata": {},
   "outputs": [],
   "source": []
  }
 ],
 "metadata": {
  "kernelspec": {
   "display_name": "Python 3 (ipykernel)",
   "language": "python",
   "name": "python3"
  },
  "language_info": {
   "codemirror_mode": {
    "name": "ipython",
    "version": 3
   },
   "file_extension": ".py",
   "mimetype": "text/x-python",
   "name": "python",
   "nbconvert_exporter": "python",
   "pygments_lexer": "ipython3",
   "version": "3.8.10"
  }
 },
 "nbformat": 4,
 "nbformat_minor": 4
}
