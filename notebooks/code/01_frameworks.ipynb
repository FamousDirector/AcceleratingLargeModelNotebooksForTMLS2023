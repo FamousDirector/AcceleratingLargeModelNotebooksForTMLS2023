{
 "cells": [
  {
   "cell_type": "markdown",
   "metadata": {
    "collapsed": false,
    "jupyter": {
     "outputs_hidden": false
    }
   },
   "source": [
    "# Frameworks\n",
    "\n",
    "Links:\n",
    "- https://huggingface.co/docs/transformers/model_doc/t5\n",
    "- https://huggingface.co/docs/transformers/serialization#onnx\n",
    "- https://github.com/NVIDIA/TensorRT/tree/main/demo/HuggingFace\n"
   ]
  },
  {
   "cell_type": "code",
   "execution_count": null,
   "metadata": {
    "collapsed": false,
    "jupyter": {
     "outputs_hidden": false
    }
   },
   "outputs": [],
   "source": [
    "!nvidia-smi"
   ]
  },
  {
   "cell_type": "code",
   "execution_count": null,
   "metadata": {},
   "outputs": [],
   "source": [
    "import os\n",
    "os.environ[\"TOKENIZERS_PARALLELISM\"] = \"false\"\n",
    "os.environ[\"CUDA_MODULE_LOADING\"] = \"LAZY\""
   ]
  },
  {
   "cell_type": "code",
   "execution_count": null,
   "metadata": {},
   "outputs": [],
   "source": [
    "# Helpers\n",
    "import subprocess as sp\n",
    "import os\n",
    "import torch\n",
    "from transformers import AutoTokenizer, T5ForConditionalGeneration, set_seed\n",
    "\n",
    "set_seed(1234)\n",
    "\n",
    "tokenizer = AutoTokenizer.from_pretrained(\"t5-small\")\n",
    "\n",
    "input_string = \"translate english to french: where can I find the bathroom?\""
   ]
  },
  {
   "cell_type": "code",
   "execution_count": null,
   "metadata": {
    "collapsed": false,
    "jupyter": {
     "outputs_hidden": false
    }
   },
   "outputs": [],
   "source": [
    "# PyTorch\n",
    "with torch.no_grad():\n",
    "    pytorch_model = T5ForConditionalGeneration.from_pretrained(\"t5-small\").to(\"cuda\")\n",
    "    input_ids = tokenizer(input_string, return_tensors=\"pt\").input_ids.to(\"cuda\")\n",
    "    pytorch_tokens = pytorch_model.generate(input_ids, max_new_tokens=16)\n",
    "    pytorch_str = tokenizer.decode(pytorch_tokens[0], skip_special_tokens=True)\n",
    "    print(f\"Pytorch output: {pytorch_str}\")\n",
    "    \n",
    "    %timeit pytorch_model.generate(input_ids)\n",
    "\n",
    "# cleanup\n",
    "del pytorch_model\n",
    "del pytorch_tokens\n",
    "del pytorch_str\n",
    "torch.cuda.empty_cache()"
   ]
  },
  {
   "cell_type": "code",
   "execution_count": null,
   "metadata": {},
   "outputs": [],
   "source": [
    "!optimum-cli export onnx --model=t5-small t5_small_onnx/"
   ]
  },
  {
   "cell_type": "code",
   "execution_count": null,
   "metadata": {},
   "outputs": [],
   "source": [
    "from optimum.onnxruntime import ORTModelForSeq2SeqLM\n",
    "\n",
    "onnx_model = ORTModelForSeq2SeqLM.from_pretrained(\"./t5_small_onnx\", provider=\"CUDAExecutionProvider\")\n",
    "\n",
    "inputs = tokenizer(input_string, return_tensors=\"pt\").to(\"cuda\")\n",
    "onnx_tokens = onnx_model.generate(**inputs)\n",
    "onnx_str = tokenizer.decode(onnx_tokens[0], skip_special_tokens=True)\n",
    "print(f\"ONNX output: {onnx_str}\")\n",
    "\n",
    "%timeit -n 25 onnx_model.generate(**inputs)\n",
    "\n",
    "# cleanup\n",
    "# del onnx_model\n",
    "# print_used_memory() # ensure none remains"
   ]
  },
  {
   "cell_type": "markdown",
   "metadata": {
    "collapsed": false,
    "jupyter": {
     "outputs_hidden": false
    }
   },
   "source": [
    "More detail: https://github.com/NVIDIA/TensorRT/blob/main/demo/HuggingFace/notebooks/t5.ipynb"
   ]
  }
 ],
 "metadata": {
  "kernelspec": {
   "display_name": "Python 3 (ipykernel)",
   "language": "python",
   "name": "python3"
  },
  "language_info": {
   "codemirror_mode": {
    "name": "ipython",
    "version": 3
   },
   "file_extension": ".py",
   "mimetype": "text/x-python",
   "name": "python",
   "nbconvert_exporter": "python",
   "pygments_lexer": "ipython3",
   "version": "3.8.10"
  }
 },
 "nbformat": 4,
 "nbformat_minor": 4
}
